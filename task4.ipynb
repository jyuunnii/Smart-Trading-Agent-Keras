{
 "cells": [
  {
   "cell_type": "markdown",
   "metadata": {},
   "source": [
    "# Smart Trading Agent\n",
    "In this notebook, we predict cryptocurrency transaction based on five pieces of data:\n",
    "- Timestamp (2018-05-01 00:00:00 - 2018-05-02 23:59:59)\n",
    "- Price \n",
    "- Mid Price \n",
    "- Book Feature \n",
    "- Side (Sell / Buy)\n",
    "\n",
    "<br/>\n",
    "\n",
    "## Introduction\n",
    "In this tutorial we will use the popular Deep Learning library, Keras, and the visualization libraries Matplotlib and Seaborn to build a classifying simple model. \n",
    "The libraries Numpy and Pandas will help us along the way"
   ]
  },
  {
   "cell_type": "code",
   "execution_count": 319,
   "metadata": {
    "pycharm": {
     "is_executing": false
    }
   },
   "outputs": [],
   "source": [
    "import pandas as pd\n",
    "\n",
    "# Reading the csv file into a pandas DataFrame\n",
    "data = pd.read_csv('data/2018-05-newtrade.csv')\n",
    "\n",
    "# Printing out the first 10 rows of our data\n",
    "#data[:10]"
   ]
  },
  {
   "cell_type": "markdown",
   "source": [
    "## Visualization\n",
    "We will now start thinking of which of these features we will use in our model.\n",
    "First let's make a plot of our data to see how it looks. \n",
    "To visualize our data, we will use matplotlib and seaborn.\n",
    "\n",
    "Intuitively, it makes sense that the price of BTC ('price') would play a big role in the customer consumption('side').\n",
    "Let's see if these hypotheses are correct:"
   ],
   "metadata": {
    "collapsed": false,
    "pycharm": {
     "name": "#%% md\n"
    }
   }
  },
  {
   "cell_type": "code",
   "execution_count": 320,
   "outputs": [],
   "source": [
    "import matplotlib.pyplot as plt\n",
    "import seaborn as sns\n",
    "x = data.price.values\n",
    "#sns.distplot(x, kde = True, rug = True)"
   ],
   "metadata": {
    "collapsed": false,
    "pycharm": {
     "name": "#%%\n",
     "is_executing": false
    }
   }
  },
  {
   "cell_type": "code",
   "execution_count": 321,
   "outputs": [],
   "source": [
    "#sns.violinplot(x='side', y='price', data=data)"
   ],
   "metadata": {
    "collapsed": false,
    "pycharm": {
     "name": "#%%\n",
     "is_executing": false
    }
   }
  },
  {
   "cell_type": "markdown",
   "source": [
    "Unfortunately, it is a bit hard to visualize prices since we have a lot of different samples. \n",
    "\n",
    "We found some 'curve' though. \n",
    "There are 2 peek points at about 0.99 and about 1.015. In this case, we seem 1.015 as the second peek-point ignoring 0.995, the actual second peek.\n",
    "At these points, trader bought and sold BTC at high price.\n"
   ],
   "metadata": {
    "collapsed": false
   }
  },
  {
   "cell_type": "markdown",
   "source": [
    "Here we can see that ages on both ends of the spectrum seem to fare better, but we need to get a closer look. We will 'bin-ify' the ages, grouping them to bins according to their value. So, ages closer together will appear as one and it will be easier to visualize.\n",
    "\n",
    "The function we will use will round the ages within a factor. To make our lives easier, we will use numpy."
   ],
   "metadata": {
    "collapsed": false,
    "pycharm": {
     "name": "#%% md\n"
    }
   }
  },
  {
   "cell_type": "code",
   "execution_count": 322,
   "outputs": [],
   "source": [
    "import numpy as np\n",
    "\n",
    "def make_bins(d, col, factor=2):\n",
    "    rounding = lambda x: np.around(x / factor)\n",
    "    d[col] = d[col].apply(rounding)\n",
    "    return d\n",
    "\n",
    "t = make_bins(data.copy(True), 'price', 100000)\n",
    "#sns.barplot(x='price', y='side', data = t)"
   ],
   "metadata": {
    "collapsed": false,
    "pycharm": {
     "name": "#%%\n",
     "is_executing": false
    }
   }
  },
  {
   "cell_type": "markdown",
   "source": [
    "There doesn't seem to be much correlation to sell rate.\n",
    "\n",
    "How about counts?"
   ],
   "metadata": {
    "collapsed": false,
    "pycharm": {
     "name": "#%% md\n"
    }
   }
  },
  {
   "cell_type": "code",
   "execution_count": 323,
   "outputs": [],
   "source": [
    "#sns.countplot(x='price', data = t)"
   ],
   "metadata": {
    "collapsed": false,
    "pycharm": {
     "name": "#%%\n",
     "is_executing": false
    }
   }
  },
  {
   "cell_type": "markdown",
   "source": [
    "It seems more clear that trader usually make highest numbers of transactions around 9,900,000 won. \n",
    "The number of transactions grows proportionally to around 99000000 won, since then it decreases. It returns to growth by around 1015000 won, but its counts are much smaller than before.\n",
    "\n",
    "### conclusion 1:\n",
    "Main trade price of May 2018 is about 9,900,000 won and most trades are under 10,100,000 won.\n"
   ],
   "metadata": {
    "collapsed": false,
    "pycharm": {
     "name": "#%% md\n"
    }
   }
  },
  {
   "cell_type": "markdown",
   "source": [
    "Now to check the book feature:"
   ],
   "metadata": {
    "collapsed": false,
    "pycharm": {
     "name": "#%% md\n"
    }
   }
  },
  {
   "cell_type": "code",
   "execution_count": 324,
   "metadata": {
    "pycharm": {
     "is_executing": false
    }
   },
   "outputs": [
    {
     "data": {
      "text/plain": "<matplotlib.axes._subplots.AxesSubplot at 0x135ea8050>"
     },
     "metadata": {},
     "output_type": "execute_result",
     "execution_count": 324
    },
    {
     "data": {
      "text/plain": "<Figure size 432x288 with 1 Axes>",
      "image/png": "[encoded data removed]"
     },
     "metadata": {
      "needs_background": "light"
     },
     "output_type": "display_data"
    }
   ],
   "source": [
    "x = data.book_feature.values\n",
    "#sns.distplot(x, kde = True, rug = True)"
   ]
  },
  {
   "cell_type": "code",
   "execution_count": 325,
   "outputs": [
    {
     "data": {
      "text/plain": "<matplotlib.axes._subplots.AxesSubplot at 0x1368bd790>"
     },
     "metadata": {},
     "output_type": "execute_result",
     "execution_count": 325
    },
    {
     "data": {
      "text/plain": "<Figure size 432x288 with 1 Axes>",
      "image/png": "[encoded data removed]"
     },
     "metadata": {
      "needs_background": "light"
     },
     "output_type": "display_data"
    }
   ],
   "source": [
    "#sns.violinplot(x='side', y='book_feature', data=data)"
   ],
   "metadata": {
    "collapsed": false,
    "pycharm": {
     "name": "#%%\n",
     "is_executing": false
    }
   }
  },
  {
   "cell_type": "markdown",
   "metadata": {
    "pycharm": {
     "is_executing": false,
     "name": "#%% md\n"
    }
   },
   "source": [
    "It's definitely skewed. \n",
    "Let's make it more specific."
   ]
  },
  {
   "cell_type": "code",
   "execution_count": 326,
   "outputs": [
    {
     "data": {
      "text/plain": "<matplotlib.axes._subplots.AxesSubplot at 0x1369a44d0>"
     },
     "metadata": {},
     "output_type": "execute_result",
     "execution_count": 326
    },
    {
     "data": {
      "text/plain": "<Figure size 432x288 with 1 Axes>",
      "image/png": "[encoded data removed]"
     },
     "metadata": {
      "needs_background": "light"
     },
     "output_type": "display_data"
    }
   ],
   "source": [
    "t = make_bins(data.copy(True), 'book_feature', 7500000)\n",
    "#sns.barplot(x='book_feature', y='side', data = t)"
   ],
   "metadata": {
    "collapsed": false,
    "pycharm": {
     "name": "#%%\n",
     "is_executing": false
    }
   }
  },
  {
   "cell_type": "code",
   "execution_count": 327,
   "outputs": [
    {
     "data": {
      "text/plain": "<seaborn.axisgrid.FacetGrid at 0x13606dad0>"
     },
     "metadata": {},
     "output_type": "execute_result",
     "execution_count": 327
    },
    {
     "data": {
      "text/plain": "<Figure size 432x216 with 2 Axes>",
      "image/png": "[encoded data removed]"
     },
     "metadata": {
      "needs_background": "light"
     },
     "output_type": "display_data"
    }
   ],
   "source": [
    "g = sns.FacetGrid(t, col='side')\n",
    "#g.map(plt.hist, 'book_feature', bins = 10)"
   ],
   "metadata": {
    "collapsed": false,
    "pycharm": {
     "name": "#%%\n",
     "is_executing": false
    }
   }
  },
  {
   "cell_type": "markdown",
   "source": [
    "There doesn't seem to be much correlation to sell rate (side = 1).\n"
   ],
   "metadata": {
    "collapsed": false,
    "pycharm": {
     "name": "#%% md\n"
    }
   }
  },
  {
   "cell_type": "markdown",
   "source": [
    "Let's separate two parts, positive numbers and negative numbers."
   ],
   "metadata": {
    "collapsed": false,
    "pycharm": {
     "name": "#%% md\n"
    }
   }
  },
  {
   "cell_type": "code",
   "execution_count": 328,
   "outputs": [
    {
     "data": {
      "text/plain": "<matplotlib.axes._subplots.AxesSubplot at 0x136c45890>"
     },
     "metadata": {},
     "output_type": "execute_result",
     "execution_count": 328
    },
    {
     "data": {
      "text/plain": "<Figure size 432x288 with 1 Axes>",
      "image/png": "[encoded data removed]"
     },
     "metadata": {
      "needs_background": "light"
     },
     "output_type": "display_data"
    }
   ],
   "source": [
    "nf = data[data['book_feature'] < 0]\n",
    "#sns.countplot(x='side', data = nf)"
   ],
   "metadata": {
    "collapsed": false,
    "pycharm": {
     "name": "#%%\n",
     "is_executing": false
    }
   }
  },
  {
   "cell_type": "markdown",
   "source": [
    "It seems almost 50:50"
   ],
   "metadata": {
    "collapsed": false
   }
  },
  {
   "cell_type": "code",
   "execution_count": 329,
   "outputs": [
    {
     "data": {
      "text/plain": "<matplotlib.axes._subplots.AxesSubplot at 0x136c84690>"
     },
     "metadata": {},
     "output_type": "execute_result",
     "execution_count": 329
    },
    {
     "data": {
      "text/plain": "<Figure size 432x288 with 1 Axes>",
      "image/png": "[encoded data removed]"
     },
     "metadata": {
      "needs_background": "light"
     },
     "output_type": "display_data"
    }
   ],
   "source": [
    "pf = data[data['book_feature'] > 0]\n",
    "#sns.countplot(x='side', data = pf)"
   ],
   "metadata": {
    "collapsed": false,
    "pycharm": {
     "name": "#%%\n",
     "is_executing": false
    }
   }
  },
  {
   "cell_type": "markdown",
   "source": [
    "If book feature is positive, trader prefers to sell BTC.\n",
    "Total counts of positive book features are almost 600. It is about 65% of total trades and 70% of total sells.\n",
    "'book feature' is the difference in total-market-customer's average requested price and total-market-customer's top request price.\n",
    "\n",
    "### conclusion 2\n",
    "When book feature is negative, it doesn't seriously effect to trader's decision (buy or sell) and when it's positive, trader prefers to sell little bit more.\n",
    "\n",
    "Book feature doesn't be seemed serious until now though."
   ],
   "metadata": {
    "collapsed": false,
    "pycharm": {
     "name": "#%% md\n"
    }
   }
  },
  {
   "cell_type": "markdown",
   "source": [
    "Let's think about correlation among trade information. The standard will be always 'price'.\n",
    "- Price x Mid Price\n",
    "- Price x Book Feature\n",
    "- Price x side (buy / sell)\n",
    "\n",
    "For the first time, we will consider transaction time.\n",
    "- Price x Timestamp"
   ],
   "metadata": {
    "collapsed": false,
    "pycharm": {
     "name": "#%% md\n"
    }
   }
  },
  {
   "cell_type": "code",
   "execution_count": 329,
   "outputs": [],
   "source": [],
   "metadata": {
    "collapsed": false,
    "pycharm": {
     "name": "#%%\n",
     "is_executing": false
    }
   }
  },
  {
   "cell_type": "markdown",
   "source": [
    "How about realationship between columns\n",
    "price x mid price\n",
    "price x book feature"
   ],
   "metadata": {
    "collapsed": false,
    "pycharm": {
     "name": "#%% md\n"
    }
   }
  },
  {
   "cell_type": "code",
   "execution_count": 330,
   "outputs": [
    {
     "data": {
      "text/plain": "<seaborn.axisgrid.JointGrid at 0x136d59890>"
     },
     "metadata": {},
     "output_type": "execute_result",
     "execution_count": 330
    },
    {
     "data": {
      "text/plain": "<Figure size 432x432 with 3 Axes>",
      "image/png": "[encoded data removed]"
     },
     "metadata": {
      "needs_background": "light"
     },
     "output_type": "display_data"
    }
   ],
   "source": [
    "#sns.jointplot(x='price', y='mid_price', data = data)\n",
    "\n",
    "sns.jointplot(x='price', y='book_feature', data = data)"
   ],
   "metadata": {
    "collapsed": false,
    "pycharm": {
     "name": "#%%\n",
     "is_executing": false
    }
   }
  },
  {
   "cell_type": "markdown",
   "source": [],
   "metadata": {
    "collapsed": false
   }
  },
  {
   "cell_type": "code",
   "execution_count": 331,
   "outputs": [],
   "source": [
    "data_rank1 = data[data[\"price\"]<10000000]\n",
    "\n"
   ],
   "metadata": {
    "collapsed": false,
    "pycharm": {
     "name": "#%%\n",
     "is_executing": false
    }
   }
  },
  {
   "cell_type": "code",
   "execution_count": 332,
   "outputs": [],
   "source": [
    "\n",
    "data_rank2 = data[data[\"price\"]>10000000]\n"
   ],
   "metadata": {
    "collapsed": false,
    "pycharm": {
     "name": "#%%\n",
     "is_executing": false
    }
   }
  },
  {
   "cell_type": "code",
   "execution_count": 333,
   "metadata": {
    "pycharm": {
     "is_executing": false
    }
   },
   "outputs": [
    {
     "data": {
      "text/plain": "<matplotlib.axes._subplots.AxesSubplot at 0x1371b3250>"
     },
     "metadata": {},
     "output_type": "execute_result",
     "execution_count": 333
    },
    {
     "data": {
      "text/plain": "<Figure size 432x288 with 1 Axes>",
      "image/png": "[encoded data removed]"
     },
     "metadata": {
      "needs_background": "light"
     },
     "output_type": "display_data"
    }
   ],
   "source": [
    "sns.countplot(x='price', data=data) "
   ]
  }
 ],
 "metadata": {
  "language_info": {
   "codemirror_mode": {
    "name": "ipython",
    "version": 3
   },
   "file_extension": ".py",
   "mimetype": "text/x-python",
   "name": "python",
   "nbconvert_exporter": "python",
   "pygments_lexer": "ipython3",
   "version": 3
  },
  "orig_nbformat": 2,
  "pycharm": {
   "stem_cell": {
    "cell_type": "raw",
    "source": [],
    "metadata": {
     "collapsed": false
    }
   }
  },
  "kernelspec": {
   "name": "python3",
   "language": "python",
   "display_name": "Python 3"
  }
 },
 "nbformat": 4,
 "nbformat_minor": 2
}